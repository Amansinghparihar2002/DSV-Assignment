{
  "nbformat": 4,
  "nbformat_minor": 0,
  "metadata": {
    "colab": {
      "provenance": [],
      "authorship_tag": "ABX9TyMBVOEFrKMthJxwDVKn5/LK",
      "include_colab_link": true
    },
    "kernelspec": {
      "name": "python3",
      "display_name": "Python 3"
    },
    "language_info": {
      "name": "python"
    }
  },
  "cells": [
    {
      "cell_type": "markdown",
      "metadata": {
        "id": "view-in-github",
        "colab_type": "text"
      },
      "source": [
        "<a href=\"https://colab.research.google.com/github/Amansinghparihar2002/DSV-Assignment/blob/main/Data%20Spliting.ipynb\" target=\"_parent\"><img src=\"https://colab.research.google.com/assets/colab-badge.svg\" alt=\"Open In Colab\"/></a>"
      ]
    },
    {
      "cell_type": "code",
      "execution_count": 2,
      "metadata": {
        "colab": {
          "base_uri": "https://localhost:8080/"
        },
        "id": "xQPF-fqs5rCn",
        "outputId": "838b8335-bc42-49c4-a27a-8f4a6ace8069"
      },
      "outputs": [
        {
          "output_type": "stream",
          "name": "stdout",
          "text": [
            "Training Set:\n",
            "Samples: 120\n",
            "Features: 4\n",
            "\n",
            "Testing Set:\n",
            "Samples: 30\n",
            "Features: 4\n"
          ]
        }
      ],
      "source": [
        "# Import necessary libraries\n",
        "from sklearn.datasets import load_iris\n",
        "from sklearn.model_selection import train_test_split\n",
        "\n",
        "# Load the Iris dataset\n",
        "iris = load_iris()\n",
        "X = iris.data\n",
        "y = iris.target\n",
        "\n",
        "# Split the dataset into training and testing sets (80-20 split)\n",
        "X_train, X_test, y_train, y_test = train_test_split(X, y, test_size=0.2, random_state=42)\n",
        "\n",
        "# Print the number of samples in both sets\n",
        "print(\"Training Set:\")\n",
        "print(f\"Samples: {X_train.shape[0]}\")\n",
        "print(f\"Features: {X_train.shape[1]}\")\n",
        "\n",
        "print(\"\\nTesting Set:\")\n",
        "print(f\"Samples: {X_test.shape[0]}\")\n",
        "print(f\"Features: {X_test.shape[1]}\")"
      ]
    }
  ]
}